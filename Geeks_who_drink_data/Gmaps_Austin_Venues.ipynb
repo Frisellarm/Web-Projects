{
 "cells": [
  {
   "cell_type": "markdown",
   "metadata": {},
   "source": [
    "# Uses GoogleMaps to find the GPS coordinates of the Venues"
   ]
  },
  {
   "cell_type": "code",
   "execution_count": 1,
   "metadata": {},
   "outputs": [],
   "source": [
    "import pandas as pd\n",
    "from pandas.io.json import json_normalize\n",
    "from tqdm import tqdm\n",
    "from datetime import datetime\n",
    "import os\n",
    "\n",
    "import googlemaps"
   ]
  },
  {
   "cell_type": "code",
   "execution_count": 2,
   "metadata": {},
   "outputs": [],
   "source": [
    "#Need an api key to access Google Maps API.\n",
    "with open('../../Api_keys/Google_maps.txt','r') as key:\n",
    "    your_api_key = key.read().replace(\"'\",\"\")"
   ]
  },
  {
   "cell_type": "code",
   "execution_count": 3,
   "metadata": {},
   "outputs": [],
   "source": [
    "data = pd.read_csv(\"./data/\"+str(datetime.today())[:10]+\"_GWD.csv\")"
   ]
  },
  {
   "cell_type": "code",
   "execution_count": 4,
   "metadata": {},
   "outputs": [
    {
     "data": {
      "text/html": [
       "<div>\n",
       "<style scoped>\n",
       "    .dataframe tbody tr th:only-of-type {\n",
       "        vertical-align: middle;\n",
       "    }\n",
       "\n",
       "    .dataframe tbody tr th {\n",
       "        vertical-align: top;\n",
       "    }\n",
       "\n",
       "    .dataframe thead th {\n",
       "        text-align: right;\n",
       "    }\n",
       "</style>\n",
       "<table border=\"1\" class=\"dataframe\">\n",
       "  <thead>\n",
       "    <tr style=\"text-align: right;\">\n",
       "      <th></th>\n",
       "      <th>Unnamed: 0</th>\n",
       "      <th>city</th>\n",
       "      <th>venue</th>\n",
       "      <th>dow</th>\n",
       "      <th>time</th>\n",
       "      <th>urls</th>\n",
       "    </tr>\n",
       "  </thead>\n",
       "  <tbody>\n",
       "    <tr>\n",
       "      <th>0</th>\n",
       "      <td>0</td>\n",
       "      <td>(Austin)</td>\n",
       "      <td>Black Star Co-Op Pub and Brewery</td>\n",
       "      <td>Sunday</td>\n",
       "      <td>8:00 PM</td>\n",
       "      <td>https://www.geekswhodrink.com/venue/19199768/t...</td>\n",
       "    </tr>\n",
       "    <tr>\n",
       "      <th>1</th>\n",
       "      <td>1</td>\n",
       "      <td>(Dallas)</td>\n",
       "      <td>Four Corners Brewing</td>\n",
       "      <td>Sunday</td>\n",
       "      <td>5:00 PM</td>\n",
       "      <td>https://www.geekswhodrink.com/venue/771599801/...</td>\n",
       "    </tr>\n",
       "    <tr>\n",
       "      <th>2</th>\n",
       "      <td>2</td>\n",
       "      <td>(El Paso)</td>\n",
       "      <td>Glass Half Full (El Paso, Sunday)</td>\n",
       "      <td>Sunday</td>\n",
       "      <td>5:00 PM</td>\n",
       "      <td>https://www.geekswhodrink.com/venue/613308526/...</td>\n",
       "    </tr>\n",
       "    <tr>\n",
       "      <th>3</th>\n",
       "      <td>3</td>\n",
       "      <td>(Wylie)</td>\n",
       "      <td>Good Neighbor Brews</td>\n",
       "      <td>Sunday</td>\n",
       "      <td>5:00 PM</td>\n",
       "      <td>https://www.geekswhodrink.com/venue/576262892/...</td>\n",
       "    </tr>\n",
       "    <tr>\n",
       "      <th>4</th>\n",
       "      <td>4</td>\n",
       "      <td>(Grapevine)</td>\n",
       "      <td>Grapevine Craft Brewery (Sunday)</td>\n",
       "      <td>Sunday</td>\n",
       "      <td>5:00 PM</td>\n",
       "      <td>https://www.geekswhodrink.com/venue/654369627/...</td>\n",
       "    </tr>\n",
       "  </tbody>\n",
       "</table>\n",
       "</div>"
      ],
      "text/plain": [
       "   Unnamed: 0         city                              venue     dow  \\\n",
       "0           0     (Austin)   Black Star Co-Op Pub and Brewery  Sunday   \n",
       "1           1     (Dallas)               Four Corners Brewing  Sunday   \n",
       "2           2    (El Paso)  Glass Half Full (El Paso, Sunday)  Sunday   \n",
       "3           3      (Wylie)                Good Neighbor Brews  Sunday   \n",
       "4           4  (Grapevine)   Grapevine Craft Brewery (Sunday)  Sunday   \n",
       "\n",
       "      time                                               urls  \n",
       "0  8:00 PM  https://www.geekswhodrink.com/venue/19199768/t...  \n",
       "1  5:00 PM  https://www.geekswhodrink.com/venue/771599801/...  \n",
       "2  5:00 PM  https://www.geekswhodrink.com/venue/613308526/...  \n",
       "3  5:00 PM  https://www.geekswhodrink.com/venue/576262892/...  \n",
       "4  5:00 PM  https://www.geekswhodrink.com/venue/654369627/...  "
      ]
     },
     "execution_count": 4,
     "metadata": {},
     "output_type": "execute_result"
    }
   ],
   "source": [
    "data.head()"
   ]
  },
  {
   "cell_type": "code",
   "execution_count": 5,
   "metadata": {},
   "outputs": [],
   "source": [
    "#cleaning the Data\n",
    "data = data.drop(columns=\"Unnamed: 0\")\n",
    "\n",
    "austin = data[data['city'] == '(Austin)']\n",
    "\n",
    "places = austin['venue'].values"
   ]
  },
  {
   "cell_type": "code",
   "execution_count": 6,
   "metadata": {},
   "outputs": [],
   "source": [
    "gmaps = googlemaps.Client(key=your_api_key)"
   ]
  },
  {
   "cell_type": "code",
   "execution_count": 7,
   "metadata": {},
   "outputs": [
    {
     "name": "stderr",
     "output_type": "stream",
     "text": [
      "100%|██████████████████████████████████████████████████████████████████████████████████| 44/44 [00:24<00:00,  1.76it/s]\n"
     ]
    }
   ],
   "source": [
    "# Geocoding an address\n",
    "austin_places = []\n",
    "for place in tqdm(range(len(places))):\n",
    "    geocode_result = gmaps.geocode(places[place] + \" Austin, TX\")\n",
    "    austin_places.append(geocode_result)"
   ]
  },
  {
   "cell_type": "markdown",
   "metadata": {},
   "source": [
    "### Creates a DataFrame form JSON "
   ]
  },
  {
   "cell_type": "code",
   "execution_count": 8,
   "metadata": {},
   "outputs": [],
   "source": [
    "google_maps_data = json_normalize([next(iter(place)) for place in austin_places])"
   ]
  },
  {
   "cell_type": "code",
   "execution_count": 9,
   "metadata": {},
   "outputs": [],
   "source": [
    "austin = pd.read_csv('./data/'+str(datetime.today())[:10]+'_GWD_Austin.csv')"
   ]
  },
  {
   "cell_type": "code",
   "execution_count": 10,
   "metadata": {},
   "outputs": [
    {
     "data": {
      "text/html": [
       "<div>\n",
       "<style scoped>\n",
       "    .dataframe tbody tr th:only-of-type {\n",
       "        vertical-align: middle;\n",
       "    }\n",
       "\n",
       "    .dataframe tbody tr th {\n",
       "        vertical-align: top;\n",
       "    }\n",
       "\n",
       "    .dataframe thead th {\n",
       "        text-align: right;\n",
       "    }\n",
       "</style>\n",
       "<table border=\"1\" class=\"dataframe\">\n",
       "  <thead>\n",
       "    <tr style=\"text-align: right;\">\n",
       "      <th></th>\n",
       "      <th>Unnamed: 0</th>\n",
       "      <th>city</th>\n",
       "      <th>venue</th>\n",
       "      <th>dow</th>\n",
       "      <th>time</th>\n",
       "      <th>urls</th>\n",
       "    </tr>\n",
       "  </thead>\n",
       "  <tbody>\n",
       "    <tr>\n",
       "      <th>0</th>\n",
       "      <td>0</td>\n",
       "      <td>(Austin)</td>\n",
       "      <td>Black Star Co-Op Pub and Brewery</td>\n",
       "      <td>Sunday</td>\n",
       "      <td>8:00 PM</td>\n",
       "      <td>https://www.geekswhodrink.com/venue/19199768/t...</td>\n",
       "    </tr>\n",
       "    <tr>\n",
       "      <th>1</th>\n",
       "      <td>1</td>\n",
       "      <td>(Austin)</td>\n",
       "      <td>The Cavalier</td>\n",
       "      <td>Sunday</td>\n",
       "      <td>7:00 PM</td>\n",
       "      <td>https://www.geekswhodrink.com/venue/859909510/...</td>\n",
       "    </tr>\n",
       "    <tr>\n",
       "      <th>2</th>\n",
       "      <td>2</td>\n",
       "      <td>(Austin)</td>\n",
       "      <td>The Highball</td>\n",
       "      <td>Sunday</td>\n",
       "      <td>7:00 PM</td>\n",
       "      <td>https://www.geekswhodrink.com/venue/16729898/t...</td>\n",
       "    </tr>\n",
       "    <tr>\n",
       "      <th>3</th>\n",
       "      <td>3</td>\n",
       "      <td>(Austin)</td>\n",
       "      <td>400 Rabbits at Alamo Drafthouse Slaughter Lane</td>\n",
       "      <td>Monday</td>\n",
       "      <td>8:00 PM</td>\n",
       "      <td>https://www.geekswhodrink.com/venue/37034165/t...</td>\n",
       "    </tr>\n",
       "    <tr>\n",
       "      <th>4</th>\n",
       "      <td>4</td>\n",
       "      <td>(Austin)</td>\n",
       "      <td>Austin Eastciders Collaboratory</td>\n",
       "      <td>Monday</td>\n",
       "      <td>8:00 PM</td>\n",
       "      <td>https://www.geekswhodrink.com/venue/736622458/...</td>\n",
       "    </tr>\n",
       "  </tbody>\n",
       "</table>\n",
       "</div>"
      ],
      "text/plain": [
       "   Unnamed: 0      city                                           venue  \\\n",
       "0           0  (Austin)                Black Star Co-Op Pub and Brewery   \n",
       "1           1  (Austin)                                    The Cavalier   \n",
       "2           2  (Austin)                                    The Highball   \n",
       "3           3  (Austin)  400 Rabbits at Alamo Drafthouse Slaughter Lane   \n",
       "4           4  (Austin)                 Austin Eastciders Collaboratory   \n",
       "\n",
       "      dow     time                                               urls  \n",
       "0  Sunday  8:00 PM  https://www.geekswhodrink.com/venue/19199768/t...  \n",
       "1  Sunday  7:00 PM  https://www.geekswhodrink.com/venue/859909510/...  \n",
       "2  Sunday  7:00 PM  https://www.geekswhodrink.com/venue/16729898/t...  \n",
       "3  Monday  8:00 PM  https://www.geekswhodrink.com/venue/37034165/t...  \n",
       "4  Monday  8:00 PM  https://www.geekswhodrink.com/venue/736622458/...  "
      ]
     },
     "execution_count": 10,
     "metadata": {},
     "output_type": "execute_result"
    }
   ],
   "source": [
    "austin.head()"
   ]
  },
  {
   "cell_type": "code",
   "execution_count": 11,
   "metadata": {},
   "outputs": [],
   "source": [
    "google_maps_data = austin.merge(google_maps_data,on=austin.index)"
   ]
  },
  {
   "cell_type": "code",
   "execution_count": 18,
   "metadata": {},
   "outputs": [],
   "source": [
    " google_maps_data = google_maps_data[['city','venue','dow','time','urls','formatted_address',\n",
    "                  'geometry.location.lat','geometry.location.lng','types']]"
   ]
  },
  {
   "cell_type": "code",
   "execution_count": 19,
   "metadata": {},
   "outputs": [],
   "source": [
    "#export the data\n",
    "google_maps_data.to_csv('./data/'+str(datetime.today())[:10]+'_GWD_Austin_gmaps.csv',index=False)"
   ]
  },
  {
   "cell_type": "code",
   "execution_count": null,
   "metadata": {},
   "outputs": [],
   "source": []
  }
 ],
 "metadata": {
  "kernelspec": {
   "display_name": "Python [default]",
   "language": "python",
   "name": "python3"
  },
  "language_info": {
   "codemirror_mode": {
    "name": "ipython",
    "version": 3
   },
   "file_extension": ".py",
   "mimetype": "text/x-python",
   "name": "python",
   "nbconvert_exporter": "python",
   "pygments_lexer": "ipython3",
   "version": "3.5.5"
  }
 },
 "nbformat": 4,
 "nbformat_minor": 2
}
